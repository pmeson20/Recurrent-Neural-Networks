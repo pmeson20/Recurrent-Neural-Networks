{
 "cells": [
  {
   "cell_type": "code",
   "execution_count": 10,
   "id": "bb4e9ad7",
   "metadata": {},
   "outputs": [
    {
     "name": "stdout",
     "output_type": "stream",
     "text": [
      "(60000, 28, 28)\n",
      "(28, 28)\n"
     ]
    }
   ],
   "source": [
    "#Import the Libraries \n",
    "import tensorflow as tf \n",
    "from tensorflow.keras.models import Sequential \n",
    "from tensorflow.keras.layers import Dense, Dropout, LSTM #Long Short-Term Memory \n",
    "\n",
    "mnist = tf.keras.datasets.mnist  \n",
    "(x_train, y_train),(x_test, y_test) = mnist.load_data() \n",
    "\n",
    "x_train = x_train/255.0\n",
    "x_test = x_test/255.0\n",
    "\n",
    "print(x_train.shape)\n",
    "print(x_train[0].shape)"
   ]
  },
  {
   "cell_type": "code",
   "execution_count": 11,
   "id": "3db850f9",
   "metadata": {},
   "outputs": [
    {
     "name": "stdout",
     "output_type": "stream",
     "text": [
      "Model: \"sequential_4\"\n",
      "_________________________________________________________________\n",
      " Layer (type)                Output Shape              Param #   \n",
      "=================================================================\n",
      " lstm_10 (LSTM)              (None, 28, 128)           80384     \n",
      "                                                                 \n",
      " dropout_10 (Dropout)        (None, 28, 128)           0         \n",
      "                                                                 \n",
      " lstm_11 (LSTM)              (None, 128)               131584    \n",
      "                                                                 \n",
      " dropout_11 (Dropout)        (None, 128)               0         \n",
      "                                                                 \n",
      " dense_4 (Dense)             (None, 32)                4128      \n",
      "                                                                 \n",
      " dropout_12 (Dropout)        (None, 32)                0         \n",
      "                                                                 \n",
      " dense_5 (Dense)             (None, 10)                330       \n",
      "                                                                 \n",
      "=================================================================\n",
      "Total params: 216,426\n",
      "Trainable params: 216,426\n",
      "Non-trainable params: 0\n",
      "_________________________________________________________________\n"
     ]
    }
   ],
   "source": [
    "#Model \n",
    "\n",
    "model = Sequential()\n",
    "model.add(LSTM(128, input_shape=(x_train.shape[1:]), activation='relu', return_sequences=True))\n",
    "model.add(Dropout(0.1))\n",
    "\n",
    "model.add(LSTM(128, activation='relu'))\n",
    "model.add(Dropout(0.1))\n",
    "\n",
    "model.add(Dense(32, activation='relu'))\n",
    "model.add(Dropout(0.1))\n",
    "\n",
    "model.add(Dense(10, activation='softmax')) \n",
    "\n",
    "model.summary()"
   ]
  },
  {
   "cell_type": "code",
   "execution_count": 12,
   "id": "bdc7e87c",
   "metadata": {},
   "outputs": [
    {
     "name": "stdout",
     "output_type": "stream",
     "text": [
      "Epoch 1/15\n",
      "1875/1875 [==============================] - 93s 49ms/step - loss: 0.5908 - accuracy: 0.8026 - val_loss: 0.1286 - val_accuracy: 0.9594\n",
      "Epoch 2/15\n",
      "1875/1875 [==============================] - 91s 49ms/step - loss: 0.1472 - accuracy: 0.9587 - val_loss: 0.0876 - val_accuracy: 0.9751\n",
      "Epoch 3/15\n",
      "1875/1875 [==============================] - 87s 46ms/step - loss: 0.1041 - accuracy: 0.9706 - val_loss: 0.1059 - val_accuracy: 0.9714\n",
      "Epoch 4/15\n",
      "1875/1875 [==============================] - 88s 47ms/step - loss: 0.0775 - accuracy: 0.9775 - val_loss: 0.0552 - val_accuracy: 0.9826\n",
      "Epoch 5/15\n",
      "1875/1875 [==============================] - 94s 50ms/step - loss: 0.0621 - accuracy: 0.9820 - val_loss: 0.0929 - val_accuracy: 0.9769\n",
      "Epoch 6/15\n",
      "1875/1875 [==============================] - 93s 49ms/step - loss: 0.0542 - accuracy: 0.9851 - val_loss: 0.0556 - val_accuracy: 0.9846\n",
      "Epoch 7/15\n",
      "1875/1875 [==============================] - 92s 49ms/step - loss: 0.0477 - accuracy: 0.9863 - val_loss: 0.0588 - val_accuracy: 0.9851\n",
      "Epoch 8/15\n",
      "1875/1875 [==============================] - 97s 52ms/step - loss: 0.0409 - accuracy: 0.9882 - val_loss: 0.0362 - val_accuracy: 0.9893\n",
      "Epoch 9/15\n",
      "1875/1875 [==============================] - 91s 49ms/step - loss: 0.0361 - accuracy: 0.9896 - val_loss: 0.0464 - val_accuracy: 0.9869\n",
      "Epoch 10/15\n",
      "1875/1875 [==============================] - 93s 50ms/step - loss: 0.0343 - accuracy: 0.9902 - val_loss: 0.0476 - val_accuracy: 0.9885\n",
      "Epoch 11/15\n",
      "1875/1875 [==============================] - 94s 50ms/step - loss: 0.0291 - accuracy: 0.9919 - val_loss: 0.0367 - val_accuracy: 0.9891\n",
      "Epoch 12/15\n",
      "1875/1875 [==============================] - 93s 50ms/step - loss: 0.0260 - accuracy: 0.9925 - val_loss: 0.0530 - val_accuracy: 0.9862\n",
      "Epoch 13/15\n",
      "1875/1875 [==============================] - 102s 54ms/step - loss: 0.0247 - accuracy: 0.9933 - val_loss: 0.0510 - val_accuracy: 0.9858\n",
      "Epoch 14/15\n",
      "1875/1875 [==============================] - 99s 53ms/step - loss: 0.0237 - accuracy: 0.9936 - val_loss: 0.0454 - val_accuracy: 0.9882\n",
      "Epoch 15/15\n",
      "1875/1875 [==============================] - 91s 49ms/step - loss: 0.0260 - accuracy: 0.9931 - val_loss: 0.0458 - val_accuracy: 0.9872\n"
     ]
    },
    {
     "data": {
      "text/plain": [
       "<keras.callbacks.History at 0x7f800840c100>"
      ]
     },
     "execution_count": 12,
     "metadata": {},
     "output_type": "execute_result"
    }
   ],
   "source": [
    "#Complile and Fit the Model \n",
    "\n",
    "opt = tf.keras.optimizers.Adam(lr=0.001, decay=1e-6)\n",
    "\n",
    "model.compile(\n",
    "    loss='sparse_categorical_crossentropy',\n",
    "    optimizer=opt,\n",
    "    metrics=['accuracy'],\n",
    ")\n",
    "\n",
    "model.fit(x_train,\n",
    "          y_train,\n",
    "          epochs=15,\n",
    "          validation_data=(x_test, y_test))"
   ]
  },
  {
   "cell_type": "code",
   "execution_count": 13,
   "id": "a384d32c",
   "metadata": {},
   "outputs": [
    {
     "name": "stdout",
     "output_type": "stream",
     "text": [
      "1875/1875 [==============================] - 33s 17ms/step - loss: 0.0159 - accuracy: 0.9953\n"
     ]
    }
   ],
   "source": [
    "#Evaluate Training \n",
    "model_evaluate = model.evaluate(x_train, y_train)"
   ]
  },
  {
   "cell_type": "code",
   "execution_count": 14,
   "id": "55f47cfd",
   "metadata": {},
   "outputs": [
    {
     "name": "stdout",
     "output_type": "stream",
     "text": [
      "313/313 [==============================] - 5s 17ms/step - loss: 0.0458 - accuracy: 0.9872\n"
     ]
    },
    {
     "data": {
      "text/plain": [
       "[0.04583518207073212, 0.9872000217437744]"
      ]
     },
     "execution_count": 14,
     "metadata": {},
     "output_type": "execute_result"
    }
   ],
   "source": [
    "#Evaluate Testing \n",
    "model.evaluate(x_test,y_test)"
   ]
  }
 ],
 "metadata": {
  "kernelspec": {
   "display_name": "Python 3 (ipykernel)",
   "language": "python",
   "name": "python3"
  },
  "language_info": {
   "codemirror_mode": {
    "name": "ipython",
    "version": 3
   },
   "file_extension": ".py",
   "mimetype": "text/x-python",
   "name": "python",
   "nbconvert_exporter": "python",
   "pygments_lexer": "ipython3",
   "version": "3.8.10"
  }
 },
 "nbformat": 4,
 "nbformat_minor": 5
}
